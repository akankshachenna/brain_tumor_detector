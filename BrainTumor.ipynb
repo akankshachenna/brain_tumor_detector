{
  "nbformat": 4,
  "nbformat_minor": 0,
  "metadata": {
    "colab": {
      "name": "BrainTumor.ipynb",
      "provenance": [],
      "collapsed_sections": [],
      "include_colab_link": true
    },
    "kernelspec": {
      "name": "python3",
      "display_name": "Python 3"
    },
    "language_info": {
      "name": "python"
    }
  },
  "cells": [
    {
      "cell_type": "markdown",
      "metadata": {
        "id": "view-in-github",
        "colab_type": "text"
      },
      "source": [
        "<a href=\"https://colab.research.google.com/github/akankshachenna/brain_tumor_detector/blob/main/BrainTumor.ipynb\" target=\"_parent\"><img src=\"https://colab.research.google.com/assets/colab-badge.svg\" alt=\"Open In Colab\"/></a>"
      ]
    },
    {
      "cell_type": "code",
      "metadata": {
        "id": "IMAFW-FN4a7o",
        "colab": {
          "base_uri": "https://localhost:8080/"
        },
        "outputId": "8603b363-b21a-4f5e-9450-59e10fde6402"
      },
      "source": [
        "from google.colab import drive\n",
        "drive.mount('/content/gdrive')"
      ],
      "execution_count": null,
      "outputs": [
        {
          "output_type": "stream",
          "text": [
            "Mounted at /content/gdrive\n"
          ],
          "name": "stdout"
        }
      ]
    },
    {
      "cell_type": "code",
      "metadata": {
        "id": "2vwsInF25U9i"
      },
      "source": [
        "import numpy as np\n",
        "import pandas as pd\n",
        "import matplotlib.pyplot as plt\n",
        "import seaborn as sns \n",
        "import os\n",
        "import cv2\n",
        "# Importing the Keras libraries and packages\n",
        "from keras.models import Sequential\n",
        "from keras.layers import Conv2D\n",
        "from keras.layers import MaxPooling2D\n",
        "from keras.layers import Flatten\n",
        "from keras.layers import Dense\n",
        "from keras.preprocessing.image import ImageDataGenerator"
      ],
      "execution_count": null,
      "outputs": []
    },
    {
      "cell_type": "code",
      "metadata": {
        "id": "z_-cP4Ne5eVF"
      },
      "source": [
        "os.chdir('/content/gdrive/MyDrive/Brain Tumor/brain_tumor_dataset')"
      ],
      "execution_count": null,
      "outputs": []
    },
    {
      "cell_type": "code",
      "metadata": {
        "id": "JPYi4hDR9kZs"
      },
      "source": [
        "no_classes = 2\n",
        "batch_size = 32\n",
        "img_width, img_height, img_num_channels = 128, 128, 3\n",
        "input_shape = (img_width, img_height, img_num_channels)"
      ],
      "execution_count": null,
      "outputs": []
    },
    {
      "cell_type": "code",
      "metadata": {
        "id": "mRUFfpIp9wCW"
      },
      "source": [
        "model = Sequential()\n",
        "model.add(Conv2D(batch_size, kernel_size=(3, 3), activation='relu', input_shape=input_shape))\n",
        "model.add(MaxPooling2D(pool_size=(2, 2)))\n",
        "model.add(Conv2D(64, kernel_size=(3, 3), activation='relu'))\n",
        "model.add(MaxPooling2D(pool_size=(2, 2)))\n",
        "model.add(Flatten())\n",
        "model.add(Dense(256, activation='relu'))\n",
        "model.add(Dense(128, activation='relu'))\n",
        "model.add(Dense(no_classes, activation='softmax'))"
      ],
      "execution_count": null,
      "outputs": []
    },
    {
      "cell_type": "code",
      "metadata": {
        "id": "T_xShOe-93Vz"
      },
      "source": [
        "train_datagen = ImageDataGenerator(rescale = 1./255,\n",
        "                                   shear_range = 0.2,\n",
        "                                   zoom_range = 0.2,\n",
        "                                   horizontal_flip = True)\n",
        "\n",
        "test_datagen = ImageDataGenerator(rescale = 1./255,\n",
        "                                  shear_range = 0.2,\n",
        "                                  zoom_range = 0.2,\n",
        "                                  horizontal_flip = True)"
      ],
      "execution_count": null,
      "outputs": []
    },
    {
      "cell_type": "code",
      "metadata": {
        "id": "PZhO9-B--kgB",
        "colab": {
          "base_uri": "https://localhost:8080/"
        },
        "outputId": "90691985-1e7b-4383-b228-cccefa9d499d"
      },
      "source": [
        "training_set = train_datagen.flow_from_directory('/content/gdrive/MyDrive/Brain Tumor/brain_tumor_dataset/train',\n",
        "                                                 target_size = (128, 128),\n",
        "                                                 batch_size = 32,\n",
        "                                                 class_mode = 'categorical')\n",
        "\n",
        "test_set = test_datagen.flow_from_directory('/content/gdrive/MyDrive/Brain Tumor/brain_tumor_dataset/test',\n",
        "                                            target_size = (128, 128),\n",
        "                                            batch_size = 32,\n",
        "                                            class_mode = 'categorical')"
      ],
      "execution_count": null,
      "outputs": [
        {
          "output_type": "stream",
          "text": [
            "Found 193 images belonging to 2 classes.\n",
            "Found 60 images belonging to 2 classes.\n"
          ],
          "name": "stdout"
        }
      ]
    },
    {
      "cell_type": "code",
      "metadata": {
        "id": "NKFApX0c-FOo"
      },
      "source": [
        "model.compile(loss='categorical_crossentropy',\n",
        "              optimizer='adam',\n",
        "              metrics=['accuracy'])"
      ],
      "execution_count": null,
      "outputs": []
    },
    {
      "cell_type": "code",
      "metadata": {
        "id": "em8vbsEE-cFa",
        "colab": {
          "base_uri": "https://localhost:8080/"
        },
        "outputId": "11945913-90ba-4dae-fa3a-954ff904714c"
      },
      "source": [
        "model.fit_generator(training_set,\n",
        "                 steps_per_epoch=5,\n",
        "                 epochs=50,\n",
        "                 validation_data=test_set,\n",
        "                 validation_steps=5)"
      ],
      "execution_count": null,
      "outputs": [
        {
          "output_type": "stream",
          "text": [
            "/usr/local/lib/python3.7/dist-packages/keras/engine/training.py:1915: UserWarning: `Model.fit_generator` is deprecated and will be removed in a future version. Please use `Model.fit`, which supports generators.\n",
            "  warnings.warn('`Model.fit_generator` is deprecated and '\n"
          ],
          "name": "stderr"
        },
        {
          "output_type": "stream",
          "text": [
            "Epoch 1/50\n",
            "5/5 [==============================] - ETA: 0s - loss: 0.2858 - accuracy: 0.8605WARNING:tensorflow:Your input ran out of data; interrupting training. Make sure that your dataset or generator can generate at least `steps_per_epoch * epochs` batches (in this case, 5 batches). You may need to use the repeat() function when building your dataset.\n",
            "5/5 [==============================] - 6s 1s/step - loss: 0.2858 - accuracy: 0.8605 - val_loss: 0.6395 - val_accuracy: 0.7500\n",
            "Epoch 2/50\n",
            "5/5 [==============================] - 4s 664ms/step - loss: 0.1922 - accuracy: 0.9612\n",
            "Epoch 3/50\n",
            "5/5 [==============================] - 5s 840ms/step - loss: 0.2432 - accuracy: 0.9000\n",
            "Epoch 4/50\n",
            "5/5 [==============================] - 4s 943ms/step - loss: 0.2298 - accuracy: 0.9070\n",
            "Epoch 5/50\n",
            "5/5 [==============================] - 4s 742ms/step - loss: 0.2979 - accuracy: 0.8372\n",
            "Epoch 6/50\n",
            "5/5 [==============================] - 4s 645ms/step - loss: 0.3204 - accuracy: 0.8605\n",
            "Epoch 7/50\n",
            "5/5 [==============================] - 4s 754ms/step - loss: 0.3239 - accuracy: 0.8682\n",
            "Epoch 8/50\n",
            "5/5 [==============================] - 4s 834ms/step - loss: 0.3499 - accuracy: 0.8500\n",
            "Epoch 9/50\n",
            "5/5 [==============================] - 4s 759ms/step - loss: 0.2307 - accuracy: 0.9535\n",
            "Epoch 10/50\n",
            "5/5 [==============================] - 4s 695ms/step - loss: 0.2368 - accuracy: 0.8992\n",
            "Epoch 11/50\n",
            "5/5 [==============================] - 4s 658ms/step - loss: 0.2099 - accuracy: 0.9457\n",
            "Epoch 12/50\n",
            "5/5 [==============================] - 4s 712ms/step - loss: 0.1964 - accuracy: 0.9612\n",
            "Epoch 13/50\n",
            "5/5 [==============================] - 4s 719ms/step - loss: 0.1776 - accuracy: 0.9535\n",
            "Epoch 14/50\n",
            "5/5 [==============================] - 4s 705ms/step - loss: 0.1973 - accuracy: 0.9225\n",
            "Epoch 15/50\n",
            "5/5 [==============================] - 4s 711ms/step - loss: 0.1599 - accuracy: 0.9457\n",
            "Epoch 16/50\n",
            "5/5 [==============================] - 5s 906ms/step - loss: 0.3598 - accuracy: 0.8562\n",
            "Epoch 17/50\n",
            "5/5 [==============================] - 4s 709ms/step - loss: 0.2014 - accuracy: 0.9302\n",
            "Epoch 18/50\n",
            "5/5 [==============================] - 5s 889ms/step - loss: 0.1988 - accuracy: 0.9312\n",
            "Epoch 19/50\n",
            "5/5 [==============================] - 4s 934ms/step - loss: 0.1463 - accuracy: 0.9457\n",
            "Epoch 20/50\n",
            "5/5 [==============================] - 4s 722ms/step - loss: 0.2211 - accuracy: 0.9147\n",
            "Epoch 21/50\n",
            "5/5 [==============================] - 4s 709ms/step - loss: 0.2264 - accuracy: 0.9457\n",
            "Epoch 22/50\n",
            "5/5 [==============================] - 4s 710ms/step - loss: 0.1485 - accuracy: 0.9457\n",
            "Epoch 23/50\n",
            "5/5 [==============================] - 4s 703ms/step - loss: 0.1580 - accuracy: 0.9147\n",
            "Epoch 24/50\n",
            "5/5 [==============================] - 4s 947ms/step - loss: 0.2206 - accuracy: 0.9225\n",
            "Epoch 25/50\n",
            "5/5 [==============================] - 4s 696ms/step - loss: 0.0710 - accuracy: 0.9690\n",
            "Epoch 26/50\n",
            "5/5 [==============================] - 4s 772ms/step - loss: 0.1345 - accuracy: 0.9380\n",
            "Epoch 27/50\n",
            "5/5 [==============================] - 5s 921ms/step - loss: 0.1526 - accuracy: 0.9438\n",
            "Epoch 28/50\n",
            "5/5 [==============================] - 4s 937ms/step - loss: 0.1098 - accuracy: 0.9612\n",
            "Epoch 29/50\n",
            "5/5 [==============================] - 4s 700ms/step - loss: 0.1580 - accuracy: 0.9380\n",
            "Epoch 30/50\n",
            "5/5 [==============================] - 4s 674ms/step - loss: 0.0952 - accuracy: 0.9690\n",
            "Epoch 31/50\n",
            "5/5 [==============================] - 4s 714ms/step - loss: 0.0782 - accuracy: 0.9690\n",
            "Epoch 32/50\n",
            "5/5 [==============================] - 4s 772ms/step - loss: 0.2812 - accuracy: 0.8992\n",
            "Epoch 33/50\n",
            "5/5 [==============================] - 4s 707ms/step - loss: 0.2713 - accuracy: 0.8915\n",
            "Epoch 34/50\n",
            "5/5 [==============================] - 4s 764ms/step - loss: 0.1975 - accuracy: 0.9070\n",
            "Epoch 35/50\n",
            "5/5 [==============================] - 5s 905ms/step - loss: 0.1275 - accuracy: 0.9563\n",
            "Epoch 36/50\n",
            "5/5 [==============================] - 4s 714ms/step - loss: 0.1084 - accuracy: 0.9457\n",
            "Epoch 37/50\n",
            "5/5 [==============================] - 5s 847ms/step - loss: 0.1066 - accuracy: 0.9688\n",
            "Epoch 38/50\n",
            "5/5 [==============================] - 5s 891ms/step - loss: 0.1596 - accuracy: 0.9500\n",
            "Epoch 39/50\n",
            "5/5 [==============================] - 4s 713ms/step - loss: 0.1242 - accuracy: 0.9690\n",
            "Epoch 40/50\n",
            "5/5 [==============================] - 5s 845ms/step - loss: 0.1116 - accuracy: 0.9688\n",
            "Epoch 41/50\n",
            "5/5 [==============================] - 4s 655ms/step - loss: 0.0828 - accuracy: 0.9690\n",
            "Epoch 42/50\n",
            "5/5 [==============================] - 5s 887ms/step - loss: 0.0871 - accuracy: 0.9625\n",
            "Epoch 43/50\n",
            "5/5 [==============================] - 4s 937ms/step - loss: 0.0848 - accuracy: 0.9845\n",
            "Epoch 44/50\n",
            "5/5 [==============================] - 4s 688ms/step - loss: 0.1313 - accuracy: 0.9612\n",
            "Epoch 45/50\n",
            "5/5 [==============================] - 4s 719ms/step - loss: 0.0946 - accuracy: 0.9767\n",
            "Epoch 46/50\n",
            "5/5 [==============================] - 4s 663ms/step - loss: 0.1038 - accuracy: 0.9612\n",
            "Epoch 47/50\n",
            "5/5 [==============================] - 4s 660ms/step - loss: 0.0419 - accuracy: 0.9922\n",
            "Epoch 48/50\n",
            "5/5 [==============================] - 4s 661ms/step - loss: 0.0729 - accuracy: 0.9767\n",
            "Epoch 49/50\n",
            "5/5 [==============================] - 4s 751ms/step - loss: 0.3185 - accuracy: 0.8837\n",
            "Epoch 50/50\n",
            "5/5 [==============================] - 4s 703ms/step - loss: 0.2762 - accuracy: 0.8760\n"
          ],
          "name": "stdout"
        },
        {
          "output_type": "execute_result",
          "data": {
            "text/plain": [
              "<keras.callbacks.History at 0x7fae4a876690>"
            ]
          },
          "metadata": {
            "tags": []
          },
          "execution_count": 12
        }
      ]
    },
    {
      "cell_type": "code",
      "metadata": {
        "id": "w40rwyrjPOyz",
        "colab": {
          "base_uri": "https://localhost:8080/",
          "height": 128
        },
        "outputId": "5f7e0d7b-e85c-49b5-c0b6-517cbf969970"
      },
      "source": [
        "import numpy as np\n",
        "from PIL import Image as im\n",
        "import cv2\n",
        "from keras.preprocessing import image\n",
        "test_image = image.load_img(\"C:\\Users\\Admin\\OneDrive\\Desktop\", target_size = (256, 256))\n",
        "test_image = image.img_to_array(test_image)\n",
        "test_image = np.expand_dims(test_image, axis = 0)\n",
        "result = model.predict(test_image)\n",
        "training_set.class_indices\n",
        "if result[0][0] == 1:\n",
        "    prediction = 'tumor not detected'\n",
        "else:\n",
        "    prediction = 'tumor detected'\n",
        " \n",
        "print(prediction)"
      ],
      "execution_count": null,
      "outputs": [
        {
          "output_type": "error",
          "ename": "SyntaxError",
          "evalue": "ignored",
          "traceback": [
            "\u001b[0;36m  File \u001b[0;32m\"<ipython-input-12-cf2b2f48d62d>\"\u001b[0;36m, line \u001b[0;32m5\u001b[0m\n\u001b[0;31m    test_image = image.load_img(\"C:\\Users\\Admin\\OneDrive\\Desktop\", target_size = (256, 256))\u001b[0m\n\u001b[0m                               ^\u001b[0m\n\u001b[0;31mSyntaxError\u001b[0m\u001b[0;31m:\u001b[0m (unicode error) 'unicodeescape' codec can't decode bytes in position 2-3: truncated \\UXXXXXXXX escape\n"
          ]
        }
      ]
    },
    {
      "cell_type": "code",
      "metadata": {
        "colab": {
          "base_uri": "https://localhost:8080/",
          "height": 229
        },
        "id": "EDJ67W4R4wGR",
        "outputId": "e6040e4c-080a-4876-a463-594d986fd1a4"
      },
      "source": [
        "history = model.fit(X_train, y_train, epochs=34, batch_size=1, validation_data=(X_val, y_val))\n",
        "loss_train = history.history['train_loss']\n",
        "loss_val = history.history['val_loss']\n",
        "epochs = range(1,35)\n",
        "plt.plot(epochs, loss_train, 'g', label='Training loss')\n",
        "plt.plot(epochs, loss_val, 'b', label='validation loss')\n",
        "plt.title('Training and Validation loss')\n",
        "plt.xlabel('Epochs')\n",
        "plt.ylabel('Loss')\n",
        "plt.legend()\n",
        "plt.show()"
      ],
      "execution_count": null,
      "outputs": [
        {
          "output_type": "error",
          "ename": "NameError",
          "evalue": "ignored",
          "traceback": [
            "\u001b[0;31m---------------------------------------------------------------------------\u001b[0m",
            "\u001b[0;31mNameError\u001b[0m                                 Traceback (most recent call last)",
            "\u001b[0;32m<ipython-input-11-5c10b4c42200>\u001b[0m in \u001b[0;36m<module>\u001b[0;34m()\u001b[0m\n\u001b[0;32m----> 1\u001b[0;31m \u001b[0mhistory\u001b[0m \u001b[0;34m=\u001b[0m \u001b[0mmodel\u001b[0m\u001b[0;34m.\u001b[0m\u001b[0mfit\u001b[0m\u001b[0;34m(\u001b[0m\u001b[0mX_train\u001b[0m\u001b[0;34m,\u001b[0m \u001b[0my_train\u001b[0m\u001b[0;34m,\u001b[0m \u001b[0mepochs\u001b[0m\u001b[0;34m=\u001b[0m\u001b[0;36m34\u001b[0m\u001b[0;34m,\u001b[0m \u001b[0mbatch_size\u001b[0m\u001b[0;34m=\u001b[0m\u001b[0;36m1\u001b[0m\u001b[0;34m,\u001b[0m \u001b[0mvalidation_data\u001b[0m\u001b[0;34m=\u001b[0m\u001b[0;34m(\u001b[0m\u001b[0mX_val\u001b[0m\u001b[0;34m,\u001b[0m \u001b[0my_val\u001b[0m\u001b[0;34m)\u001b[0m\u001b[0;34m)\u001b[0m\u001b[0;34m\u001b[0m\u001b[0;34m\u001b[0m\u001b[0m\n\u001b[0m\u001b[1;32m      2\u001b[0m \u001b[0mloss_train\u001b[0m \u001b[0;34m=\u001b[0m \u001b[0mhistory\u001b[0m\u001b[0;34m.\u001b[0m\u001b[0mhistory\u001b[0m\u001b[0;34m[\u001b[0m\u001b[0;34m'train_loss'\u001b[0m\u001b[0;34m]\u001b[0m\u001b[0;34m\u001b[0m\u001b[0;34m\u001b[0m\u001b[0m\n\u001b[1;32m      3\u001b[0m \u001b[0mloss_val\u001b[0m \u001b[0;34m=\u001b[0m \u001b[0mhistory\u001b[0m\u001b[0;34m.\u001b[0m\u001b[0mhistory\u001b[0m\u001b[0;34m[\u001b[0m\u001b[0;34m'val_loss'\u001b[0m\u001b[0;34m]\u001b[0m\u001b[0;34m\u001b[0m\u001b[0;34m\u001b[0m\u001b[0m\n\u001b[1;32m      4\u001b[0m \u001b[0mepochs\u001b[0m \u001b[0;34m=\u001b[0m \u001b[0mrange\u001b[0m\u001b[0;34m(\u001b[0m\u001b[0;36m1\u001b[0m\u001b[0;34m,\u001b[0m\u001b[0;36m35\u001b[0m\u001b[0;34m)\u001b[0m\u001b[0;34m\u001b[0m\u001b[0;34m\u001b[0m\u001b[0m\n\u001b[1;32m      5\u001b[0m \u001b[0mplt\u001b[0m\u001b[0;34m.\u001b[0m\u001b[0mplot\u001b[0m\u001b[0;34m(\u001b[0m\u001b[0mepochs\u001b[0m\u001b[0;34m,\u001b[0m \u001b[0mloss_train\u001b[0m\u001b[0;34m,\u001b[0m \u001b[0;34m'g'\u001b[0m\u001b[0;34m,\u001b[0m \u001b[0mlabel\u001b[0m\u001b[0;34m=\u001b[0m\u001b[0;34m'Training loss'\u001b[0m\u001b[0;34m)\u001b[0m\u001b[0;34m\u001b[0m\u001b[0;34m\u001b[0m\u001b[0m\n",
            "\u001b[0;31mNameError\u001b[0m: name 'X_train' is not defined"
          ]
        }
      ]
    }
  ]
}